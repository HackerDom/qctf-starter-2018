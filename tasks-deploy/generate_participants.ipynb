{
 "cells": [
  {
   "cell_type": "code",
   "execution_count": 2,
   "metadata": {},
   "outputs": [],
   "source": [
    "import yaml\n",
    "import random\n",
    "\n",
    "consonants = 'BCDFGHJKLMNPQRSTVWXZ12578'\n",
    "vowels = 'AEIOUY03469'\n",
    "\n",
    "def gen_password(length=10):\n",
    "    def gen_char(i):\n",
    "        return random.choice(consonants if i%2 == 0 else vowels)\n",
    "    \n",
    "    return ''.join(gen_char(i) for i in range(length))\n",
    "\n",
    "def make_test_participant(login='test', password=None, region=None, visible=False):\n",
    "    p = {\n",
    "        'username': login,\n",
    "        'email': login+'@localhost.localdomain',\n",
    "        'first_name': login,\n",
    "        'last_name': '(test user)',\n",
    "        'password': password or gen_password(8),\n",
    "        'is_visible_in_scoreboard': visible\n",
    "    }\n",
    "    if region:\n",
    "        p['region'] = region\n",
    "    return p"
   ]
  },
  {
   "cell_type": "code",
   "execution_count": 3,
   "metadata": {
    "collapsed": true
   },
   "outputs": [],
   "source": [
    "participants = [\n",
    "    make_test_participant('qctf1', visible=True),\n",
    "    make_test_participant('qctf2', visible=True),\n",
    "    make_test_participant('qctf3', visible=True),\n",
    "    make_test_participant('qctf4', visible=True),\n",
    "]"
   ]
  },
  {
   "cell_type": "code",
   "execution_count": 5,
   "metadata": {},
   "outputs": [],
   "source": [
    "with open('participants.yaml', 'w') as f:\n",
    "    yaml.dump(participants, f)"
   ]
  },
  {
   "cell_type": "code",
   "execution_count": null,
   "metadata": {
    "collapsed": true
   },
   "outputs": [],
   "source": []
  }
 ],
 "metadata": {
  "kernelspec": {
   "display_name": "Python 3",
   "language": "python",
   "name": "python3"
  },
  "language_info": {
   "codemirror_mode": {
    "name": "ipython",
    "version": 3
   },
   "file_extension": ".py",
   "mimetype": "text/x-python",
   "name": "python",
   "nbconvert_exporter": "python",
   "pygments_lexer": "ipython3",
   "version": "3.6.1"
  }
 },
 "nbformat": 4,
 "nbformat_minor": 2
}
